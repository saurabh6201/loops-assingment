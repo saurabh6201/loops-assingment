{
 "cells": [
  {
   "cell_type": "raw",
   "id": "199df93b-d7e0-4e29-9916-20bb3b91090a",
   "metadata": {},
   "source": [
    "FLOW CONTROL"
   ]
  },
  {
   "cell_type": "markdown",
   "id": "117f2ca3-91d9-4cf3-9d3a-a6232a046cca",
   "metadata": {},
   "source": [
    "CONDITIONAL"
   ]
  },
  {
   "cell_type": "code",
   "execution_count": 2,
   "id": "60dae887-a76b-4f88-aa3a-1914c70fd419",
   "metadata": {},
   "outputs": [],
   "source": [
    "#CONDITIONALS>>A conditional in Python is a construct used to make decisions in your code. \n",
    "#                It allows your program to execute different blocks of code based on \n",
    "#                whether a condition (or expression) evaluates to True or False. This is done using if, elif, and else statements.\n",
    "\n",
    "#                पायथन में कंडीशनल एक निर्माण है जिसका उपयोग आपके कोड में निर्णय लेने के लिए किया जाता है।\n",
    "#               यह आपके प्रोग्राम को कोड के विभिन्न ब्लॉकों को निष्पादित करने की अनुमति देता है,\n",
    "#              जो इस आधार पर होता है कि कोई शर्त (या अभिव्यक्ति) सही या गलत का मूल्यांकन करती है।\n",
    "#             यह if, elif, और else कथनों का उपयोग करके किया जाता है।"
   ]
  },
  {
   "cell_type": "markdown",
   "id": "bff79387-0738-4cf3-8127-96e0bbbb2284",
   "metadata": {},
   "source": [
    "if statements"
   ]
  },
  {
   "cell_type": "code",
   "execution_count": 1,
   "id": "049bb4e2-1a0c-4dbb-a700-eef30fd654fe",
   "metadata": {},
   "outputs": [
    {
     "data": {
      "text/plain": [
       "'\\n\\nl=input(\"enter length of rectangle:\")\\n b=input(\"enter breadth of rectangle:\")\\n a=int(l*b)\\n p=int(2*(l+b))\\n    if (a>p):\\n        print(\"area is greater than perimeter\")\\n    \\n    if (a<p):\\n        print(\"area is less than perimeter\")\\n    \\n    if (a==p):\\n        print(\"area & perimeter is equal\")\\n        \\n'"
      ]
     },
     "execution_count": 1,
     "metadata": {},
     "output_type": "execute_result"
    }
   ],
   "source": [
    "\"\"\"\n",
    "\n",
    "l=input(\"enter length of rectangle:\")\n",
    " b=input(\"enter breadth of rectangle:\")\n",
    " a=int(l*b)\n",
    " p=int(2*(l+b))\n",
    "    if (a>p):\n",
    "        print(\"area is greater than perimeter\")\n",
    "    \n",
    "    if (a<p):\n",
    "        print(\"area is less than perimeter\")\n",
    "    \n",
    "    if (a==p):\n",
    "        print(\"area & perimeter is equal\")\n",
    "        \n",
    "\"\"\""
   ]
  },
  {
   "cell_type": "code",
   "execution_count": 53,
   "id": "b69b33a5-047a-4a65-946a-3cf47285eeb7",
   "metadata": {},
   "outputs": [
    {
     "name": "stdin",
     "output_type": "stream",
     "text": [
      "enter the length of reactangle 90\n",
      "enter the breadth of reactangle 5\n"
     ]
    },
    {
     "name": "stdout",
     "output_type": "stream",
     "text": [
      "area is greater than parimeter\n",
      "beause the area of reactangle is 450\n",
      "and perimeter of reactangle is 190\n"
     ]
    }
   ],
   "source": [
    "x=int(input(\"enter the length of reactangle\"))\n",
    "y=int(input(\"enter the breadth of reactangle\"))\n",
    "\n",
    "a=(x*y)\n",
    "#print(\"area of reactangle is\",a)\n",
    "p=2*(x+y)\n",
    "if (a>p):\n",
    "    print(\"area is greater than parimeter\")\n",
    "elif(p>a):\n",
    "        print(\"the parimeter is greater than area\")\n",
    "else:\n",
    "    print(\"area & parimeter is equal\")\n",
    "print(\"beause the area of reactangle is\",a)\n",
    "print (\"and perimeter of reactangle is\",p)\n",
    "\n",
    "    \n"
   ]
  },
  {
   "cell_type": "code",
   "execution_count": 27,
   "id": "a8358b41-5568-422c-93b1-0941332e4ed8",
   "metadata": {},
   "outputs": [
    {
     "name": "stdout",
     "output_type": "stream",
     "text": [
      "you are pass\n"
     ]
    }
   ],
   "source": [
    "#if condition>> only one condition applied then code will be execute\n",
    "sub=30\n",
    "if(sub>=20):\n",
    "    print(\"you are pass\")"
   ]
  },
  {
   "cell_type": "code",
   "execution_count": 45,
   "id": "0f5cc534-478c-4310-8b10-2535f9dbd42a",
   "metadata": {},
   "outputs": [
    {
     "name": "stdout",
     "output_type": "stream",
     "text": [
      "you are passed\n"
     ]
    }
   ],
   "source": [
    "# if ,else condition>> one conditio is applied but another condition is not applied\n",
    "sub=30\n",
    "if(sub>=30):\n",
    "    print(\"you are passed\")\n",
    "else:\n",
    "    print (\"repeat the class\")\n"
   ]
  },
  {
   "cell_type": "code",
   "execution_count": 8,
   "id": "84154b98-4aaa-4667-9a6d-52b4c16f8fd4",
   "metadata": {},
   "outputs": [
    {
     "name": "stdout",
     "output_type": "stream",
     "text": [
      "do hard work, you passed with the help of grace marks\n",
      "because,you got 27 out of 100;passing marks 30 & grace marks 3\n"
     ]
    }
   ],
   "source": [
    "# if,elif,else condition>> any one condition is fullfield,in multiple options condition,then code will be execute\n",
    "sub=27\n",
    "if(sub>=27 and sub<30):\n",
    "    print(\"do hard work, you passed with the help of grace marks\")\n",
    "elif (sub>=30 and sub<60):\n",
    "        print(\"you are passed\")\n",
    "elif (sub>=60 and sub<85):\n",
    "    print(\"you are passed with avarege marks\")\n",
    "elif (sub>=85):\n",
    "    print(\"you are excllent\")\n",
    "else:\n",
    "    print(\"you are fail,please repeat the class\") \n",
    "print(\"because,you got\",sub,\"out of 100;passing marks 30 & grace marks 3\")"
   ]
  },
  {
   "cell_type": "code",
   "execution_count": 2,
   "id": "2bbc6fe7-e433-47cb-a145-5925e14c1ea0",
   "metadata": {},
   "outputs": [],
   "source": [
    "# nested if,else condition>> you have multiple if,else inside if else\n"
   ]
  },
  {
   "cell_type": "code",
   "execution_count": null,
   "id": "1a8b3bb4-061c-4aad-89a8-ffe4d6277091",
   "metadata": {},
   "outputs": [],
   "source": [
    "# making a login or register form\n",
    "name=input(\"enter your name\")\n",
    "email="
   ]
  },
  {
   "cell_type": "code",
   "execution_count": null,
   "id": "e0b633d3-ab74-4a6f-81dd-d1df253578c8",
   "metadata": {},
   "outputs": [
    {
     "name": "stdin",
     "output_type": "stream",
     "text": [
      "Please enter your name 47\n"
     ]
    }
   ],
   "source": [
    "name = input(\"Please enter your name\")\n",
    "email = input(\"Please enter your email\")\n",
    "password = input(\"Please eneter your password\")\n",
    "\n",
    "if (name == \"\" and name==int):\n",
    "    print(\"Please enter a valid name, can not be empty\")\n",
    "else:\n",
    "    if \"@\" not in email:\n",
    "        print(\"Please enter a valid email\")\n",
    "    else:\n",
    "        if len(password) < 0:\n",
    "            print(\"No password entered, pls provide a valid password\")\n",
    "        else:\n",
    "            print(\"Login/registration is successfull\")"
   ]
  },
  {
   "cell_type": "code",
   "execution_count": null,
   "id": "37eae1e0-b832-4a3c-8044-44f1af975a4f",
   "metadata": {},
   "outputs": [],
   "source": []
  },
  {
   "cell_type": "code",
   "execution_count": null,
   "id": "5a7826ee-a48f-46a3-82f5-ebbbacfd4240",
   "metadata": {},
   "outputs": [],
   "source": []
  }
 ],
 "metadata": {
  "kernelspec": {
   "display_name": "Python 3 (ipykernel)",
   "language": "python",
   "name": "python3"
  },
  "language_info": {
   "codemirror_mode": {
    "name": "ipython",
    "version": 3
   },
   "file_extension": ".py",
   "mimetype": "text/x-python",
   "name": "python",
   "nbconvert_exporter": "python",
   "pygments_lexer": "ipython3",
   "version": "3.12.7"
  }
 },
 "nbformat": 4,
 "nbformat_minor": 5
}
